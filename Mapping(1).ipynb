{
 "cells": [
  {
   "cell_type": "markdown",
   "id": "113a5416",
   "metadata": {},
   "source": [
    "# Mapping with Python\n",
    "\n",
    "In today's data-driven world, visualizing information geographically can provide valuable insights. In this demonstration, we'll explore how to create insightful maps using Python. By the end of this demonstration, you'll have a visual representation of the employment landscape.\n",
    "\n",
    "## Dataset Overview:\n",
    "\n",
    "We'll be working with county-level employment data, focusing on two main metrics: (1) Unemployment Rates and (2) jobs lost due to establishment closures per 1000 inhabitants. We use the average of these variables during the period from 2002 to 2019."
   ]
  },
  {
   "cell_type": "markdown",
   "id": "a841787a",
   "metadata": {},
   "source": [
    "## Importing libraries:\n",
    "    \n",
    "Before diving into the code, our first step is to import the necessary libraries. Ensure you've installed them beforehand."
   ]
  },
  {
   "cell_type": "code",
   "execution_count": null,
   "id": "a7b848a8",
   "metadata": {},
   "outputs": [],
   "source": [
    "from folium.features import GeoJsonTooltip\n",
    "from folium.plugins import HeatMap\n",
    "from folium import plugins\n",
    "import geopandas as gpd\n",
    "import pandas as pd\n",
    "import numpy as np\n",
    "#import geoplotlib\n",
    "import geojson\n",
    "import chardet\n",
    "import folium\n",
    "import branca\n",
    "import json\n",
    "import glob"
   ]
  },
  {
   "cell_type": "markdown",
   "id": "15b2e030",
   "metadata": {},
   "source": [
    "## Opening files:\n",
    "    \n",
    "In this section, we'll begin by loading our data files. We'll be utilizing both a GeoJSON and a shapefile specific to the US, alongside our average employment data.\n",
    "\n",
    "It's worth noting that while we could skip detecting the file encoding for US data, this step could be helpful when working with international datasets. Different countries may use unique encodings and characters, and ensuring compatibility can prevent potential issues down the line."
   ]
  },
  {
   "cell_type": "code",
   "execution_count": null,
   "id": "04f7c876",
   "metadata": {},
   "outputs": [],
   "source": [
    "shapeFile = \"C:/GitHub/cb_2018_us_county_500k.shp\"\n",
    "intensityFile = \"C:/GitHub/employment_map.csv\"\n",
    "geojsonFile = 'C:/GitHub/gz_2010_us_050_00_500k.json'"
   ]
  },
  {
   "cell_type": "code",
   "execution_count": null,
   "id": "2ff8e60d",
   "metadata": {},
   "outputs": [],
   "source": [
    "encSF=chardet.detect(open(shapeFile,'rb').read())['encoding']\n",
    "encIF=chardet.detect(open(intensityFile,'rb').read())['encoding']\n",
    "encGF=chardet.detect(open(geojsonFile,'rb').read())['encoding']"
   ]
  },
  {
   "cell_type": "code",
   "execution_count": null,
   "id": "622343f0",
   "metadata": {},
   "outputs": [],
   "source": [
    "shapeData = gpd.read_file(shapeFile)\n",
    "intensityData =pd.read_csv(intensityFile)\n",
    "geojsonData = (open(geojsonFile, \"r\", encoding=encGF)).read()"
   ]
  },
  {
   "cell_type": "markdown",
   "id": "ecb3d94c",
   "metadata": {},
   "source": [
    "## Testing the shapefile:\n",
    "\n",
    "Now we visually inspect our shapefile. A simple plot will allow us to ensure that the shapefile correctly represents all the counties within the Continental US."
   ]
  },
  {
   "cell_type": "code",
   "execution_count": null,
   "id": "02df7bf3",
   "metadata": {
    "scrolled": false
   },
   "outputs": [],
   "source": [
    "continental_shapeData = shapeData.cx[-125:-65,25:50]\n",
    "cUS_SD_plot = continental_shapeData.plot();\n",
    "cUS_SD_plot.set_frame_on(False);\n",
    "cUS_SD_plot.set_yticklabels([]);\n",
    "cUS_SD_plot.set_xticklabels([]);\n",
    "cUS_SD_plot.set_xticks([]);\n",
    "cUS_SD_plot.set_yticks([]);\n"
   ]
  },
  {
   "cell_type": "markdown",
   "id": "44ff3aa9",
   "metadata": {},
   "source": [
    "## Testing the geojson file:\n",
    "\n",
    "Now we visually inspect our geojson. A simple plot will allow us to ensure that the geojson correctly represents all the counties within the US."
   ]
  },
  {
   "cell_type": "code",
   "execution_count": null,
   "id": "0386eb08",
   "metadata": {},
   "outputs": [],
   "source": [
    "testMap = folium.Map(location=[39,-99],tiles=\"OpenStreetMap\",zoom_start=4)\n",
    "style_function = lambda x: {'fillColor': '#90EE90',\n",
    "                            'color': '#006400',\n",
    "                            'weight': 0.25,\n",
    "                            'opacity': 0.5,\n",
    "                            'fillOpacity': 0.2}\n",
    "folium.GeoJson(data=geojsonData,style_function=style_function).add_to(testMap)\n",
    "folium.LayerControl().add_to(testMap)\n",
    "testMap"
   ]
  },
  {
   "cell_type": "markdown",
   "id": "98c0fe8e",
   "metadata": {},
   "source": [
    "## Mapping employment\n",
    "\n",
    "Now that we know the files we have, we can use them to create a map of county-level average employment. First, we open the geojson file again and format the ID so it matches the FIPS code from the employment data. Similarly, we format the FIPS code for the employment data and convert it to string. Then, we merge the two data sets and plot the maps."
   ]
  },
  {
   "cell_type": "code",
   "execution_count": null,
   "id": "ebe26dd2",
   "metadata": {},
   "outputs": [],
   "source": [
    "geoJson = json.load(open(geojsonFile, \"r\", encoding=encGF))\n",
    "for i in range(len(geoJson['features'])):\n",
    "    geoJson['features'][i]['properties']['statecountyfp'] = geoJson['features'][i]['properties']['GEO_ID'][9:14]\n",
    "    if not geoJson['features'][i]['properties'].get('NAME'):\n",
    "        geoJson['features'][i]['properties']['NAME'] = 'Missing'\n",
    "gdf = gpd.GeoDataFrame.from_features(geoJson['features'])"
   ]
  },
  {
   "cell_type": "code",
   "execution_count": null,
   "id": "fe58adb1",
   "metadata": {},
   "outputs": [],
   "source": [
    "employment = pd.read_csv('C:/GitHub/employment_map.csv')\n",
    "employment['statecountyfp'] = employment['statecountyfp'].apply(lambda x: \"{:05}\".format(x))"
   ]
  },
  {
   "cell_type": "code",
   "execution_count": null,
   "id": "1fc65f89",
   "metadata": {},
   "outputs": [],
   "source": [
    "df = gdf.merge(employment, left_on='statecountyfp', right_on='statecountyfp', how=\"outer\") \n",
    "df = df[~df['geometry'].isna() & ~df['unemp'].isna()]"
   ]
  },
  {
   "cell_type": "code",
   "execution_count": null,
   "id": "8ec46674",
   "metadata": {},
   "outputs": [],
   "source": [
    "choroplethMapU = folium.Map(location=[39,-99], zoom_start=4,tiles='openstreetmap')\n",
    "custom_scale = (df['unemp'].quantile((0,0.2,0.4,0.6,0.8,0.9,0.95,1))).tolist()\n",
    "folium.Choropleth(\n",
    "            geo_data=geojsonData,\n",
    "            encoding=encGF,\n",
    "            data=df,\n",
    "            columns=['GEO_ID','unemp'],\n",
    "            key_on='feature.properties.GEO_ID',\n",
    "            threshold_scale=custom_scale,\n",
    "            fill_color='YlOrRd',\n",
    "            nan_fill_color=\"White\",\n",
    "            fill_opacity=0.7,\n",
    "            line_opacity=0.2,\n",
    "            legend_name='Average unemployment rate (2003-2019)',\n",
    "            highlight=True,\n",
    "            line_color='black').add_to(choroplethMapU)\n",
    "folium.GeoJson(\n",
    "    geojsonData,\n",
    "    style_function=lambda x: {'color': 'transparent', 'fillColor': 'transparent', 'weight': 0},\n",
    "    tooltip=folium.GeoJsonTooltip(\n",
    "        fields=['NAME'],\n",
    "        aliases=[''],\n",
    "    )\n",
    ").add_to(choroplethMapU)\n",
    "choroplethMapU"
   ]
  },
  {
   "cell_type": "code",
   "execution_count": null,
   "id": "f7c6ad1d",
   "metadata": {
    "scrolled": true
   },
   "outputs": [],
   "source": [
    "choroplethMapD = folium.Map(location=[39,-99], zoom_start=4,tiles='openstreetmap')\n",
    "custom_scale = (df['dest'].quantile((0,0.05,0.1,0.2,0.4,0.6,0.8,0.9,0.95,1))).tolist()\n",
    "folium.Choropleth(\n",
    "            geo_data=geojsonData,\n",
    "            encoding=encGF,\n",
    "            data=df,\n",
    "            columns=['GEO_ID','dest'],\n",
    "            key_on='feature.properties.GEO_ID',\n",
    "            threshold_scale=custom_scale,\n",
    "            fill_color='RdPu',\n",
    "            nan_fill_color=\"White\",\n",
    "            fill_opacity=0.7,\n",
    "            line_opacity=0.2,\n",
    "            legend_name='Average job destruction due to establishment deaths per 1000 inhabitants (2003-2019)',\n",
    "            highlight=True,\n",
    "            line_color='black').add_to(choroplethMapD)\n",
    "folium.GeoJson(\n",
    "    geojsonData,\n",
    "    style_function=lambda x: {'color': 'transparent', 'fillColor': 'transparent', 'weight': 0},\n",
    "    tooltip=folium.GeoJsonTooltip(\n",
    "        fields=['NAME'],\n",
    "        aliases=[''],\n",
    "    )\n",
    ").add_to(choroplethMapD)\n",
    "choroplethMapD"
   ]
  },
  {
   "cell_type": "markdown",
   "id": "8f67ac45",
   "metadata": {},
   "source": [
    "## Exporting to HTML\n",
    "\n",
    "Now that we have the maps, we can export them to HTML."
   ]
  },
  {
   "cell_type": "code",
   "execution_count": null,
   "id": "7649ee2d",
   "metadata": {},
   "outputs": [],
   "source": [
    "choroplethMapU.save(\"C:/GitHub/choroplethMapU.html\")\n",
    "choroplethMapD.save(\"C:/GitHub/choroplethMapD.html\")"
   ]
  }
 ],
 "metadata": {
  "kernelspec": {
   "display_name": "Python 3 (ipykernel)",
   "language": "python",
   "name": "python3"
  },
  "language_info": {
   "codemirror_mode": {
    "name": "ipython",
    "version": 3
   },
   "file_extension": ".py",
   "mimetype": "text/x-python",
   "name": "python",
   "nbconvert_exporter": "python",
   "pygments_lexer": "ipython3",
   "version": "3.10.9"
  }
 },
 "nbformat": 4,
 "nbformat_minor": 5
}
